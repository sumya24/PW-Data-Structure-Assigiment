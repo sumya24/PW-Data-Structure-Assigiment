{
 "cells": [
  {
   "cell_type": "code",
   "execution_count": 6,
   "id": "5c9ce93f-f34f-45c8-8b75-3e870a92278d",
   "metadata": {},
   "outputs": [
    {
     "name": "stdout",
     "output_type": "stream",
     "text": [
      "hellow\n",
      "sumit and info...\n",
      "another example mutiliple line comment used in python for mmultiple lines\n",
      "\n"
     ]
    }
   ],
   "source": [
    "#Q1. How do you comment code in Python? What are the different types of comments?\n",
    "\n",
    "#single line comment , for print \"hellow\"\n",
    "print(\"hellow\")\n",
    "\n",
    "#multiple line comment for \n",
    "#print my name & my info..\n",
    "print(\"sumit and info...\")\n",
    "\n",
    "'''another example mutiliple line comment used in python for mmultiple lines\n",
    "another example mutiliple line comment used in python for mmultiple lines\n",
    "another example mutiliple line comment used in python for mmultiple lines'''\n",
    "print('''another example mutiliple line comment used in python for mmultiple lines\n",
    "''')\n",
    "\n"
   ]
  },
  {
   "cell_type": "code",
   "execution_count": 14,
   "id": "c67285b2-58ac-4543-a955-b529bf12a6d7",
   "metadata": {},
   "outputs": [
    {
     "name": "stdout",
     "output_type": "stream",
     "text": [
      "123\n",
      "sumit\n",
      "2455\n"
     ]
    }
   ],
   "source": [
    "#Q2. What are variables in Python? How do you declare and assign values to variables?\n",
    "\n",
    "#Python variable is a containers to store values\n",
    "# EX \n",
    "sumit = 123\n",
    "A = \"sumit\"\n",
    "s=2455\n",
    "print(sumit)\n",
    "print(A)\n",
    "print(s)"
   ]
  },
  {
   "cell_type": "code",
   "execution_count": 11,
   "id": "68f38147-392f-4e62-821e-522f76fb87d4",
   "metadata": {},
   "outputs": [
    {
     "name": "stdout",
     "output_type": "stream",
     "text": [
      "453\n",
      "453.0\n",
      "2\n",
      "10\n"
     ]
    }
   ],
   "source": [
    "#Q3. How do you convert one data type to another in Python?\n",
    "\n",
    "interger = 453\n",
    "string='10'\n",
    "float_valuve = 2.10\n",
    "#Converting value  \n",
    "print(str(interger))\n",
    "print(float(interger))\n",
    "print(int(float_valuve))\n",
    "print(int(string))"
   ]
  },
  {
   "cell_type": "code",
   "execution_count": 15,
   "id": "01fcc513-8671-421e-990e-49713a8fd7be",
   "metadata": {},
   "outputs": [
    {
     "name": "stdout",
     "output_type": "stream",
     "text": [
      "Hello from my Python script\n"
     ]
    }
   ],
   "source": [
    "#Q4. How do you write and execute a Python script from the command line?\n",
    "\n",
    "'''Creating Python scripts that can be run from the command line makes it much easier to abstract and share your code so that it can be reused \n",
    "and shared with others'''\n",
    "#for creating a script\n",
    "'''This Python script (hello.py) will simply print out a statement that lets us know the code in the script has run, as shown below.\n",
    "hello.py'''\n",
    "script = \"Hello from my Python script\"\n",
    "print(script)"
   ]
  },
  {
   "cell_type": "code",
   "execution_count": 16,
   "id": "17b8f1e0-cdbb-4fcd-b3a8-45b0812f252b",
   "metadata": {},
   "outputs": [
    {
     "data": {
      "text/plain": [
       "[2, 3]"
      ]
     },
     "execution_count": 16,
     "metadata": {},
     "output_type": "execute_result"
    }
   ],
   "source": [
    "#Q5. Given a list my_list = [1, 2, 3, 4, 5], write the code to slice the list and obtain the sub-list [2, 3].\n",
    "\n",
    "my_list = [1,2,3,4,5]\n",
    "my_list[1:3:1]"
   ]
  },
  {
   "cell_type": "code",
   "execution_count": 17,
   "id": "ca3af05c-e589-48a5-baa0-61bc30f4fa07",
   "metadata": {},
   "outputs": [
    {
     "name": "stdout",
     "output_type": "stream",
     "text": [
      "(4+5j)\n"
     ]
    }
   ],
   "source": [
    "#Q6. What is a complex number in mathematics, and how is it represented in Python?\n",
    "\n",
    "'''A number which can be represented in the form of x+iy, where a is a and b is a real number and  i is an imaginary number,\n",
    "is called a complex number.'''\n",
    "\n",
    "complex_number = 4+5j\n",
    "print(complex_number)"
   ]
  },
  {
   "cell_type": "code",
   "execution_count": 18,
   "id": "b5da91c3-fd64-40ca-a954-81adf57ae600",
   "metadata": {},
   "outputs": [
    {
     "name": "stdout",
     "output_type": "stream",
     "text": [
      "25\n"
     ]
    }
   ],
   "source": [
    "#Q7. What is the correct way to declare a variable named age and assign the value 25 to it?\n",
    "\n",
    "age = 25\n",
    "print(age)"
   ]
  },
  {
   "cell_type": "code",
   "execution_count": 19,
   "id": "a5d8ccf7-c02a-4528-806a-4ed0cf217c53",
   "metadata": {},
   "outputs": [
    {
     "data": {
      "text/plain": [
       "float"
      ]
     },
     "execution_count": 19,
     "metadata": {},
     "output_type": "execute_result"
    }
   ],
   "source": [
    "#Q8. Declare a variable named price and assign the value 9.99 to it. What data type does this variable belong to?\n",
    "\n",
    "price = 9.99\n",
    "type(price)"
   ]
  },
  {
   "cell_type": "code",
   "execution_count": 22,
   "id": "dc8b484d-b71e-4255-aea1-636aac14cc37",
   "metadata": {},
   "outputs": [
    {
     "name": "stdout",
     "output_type": "stream",
     "text": [
      "sumit sunil rukadikar\n"
     ]
    },
    {
     "data": {
      "text/plain": [
       "'sumit sunil rukadikar'"
      ]
     },
     "execution_count": 23,
     "metadata": {},
     "output_type": "execute_result"
    }
   ],
   "source": [
    "#Q9. Create a variable named name and assign your full name to it as a string. How would you print the value of this variable?\n",
    "\n",
    "name = \"sumit sunil rukadikar\"\n",
    "print(name)\n",
    "#or\n",
    "name"
   ]
  },
  {
   "cell_type": "code",
   "execution_count": 35,
   "id": "4e31e6bc-9a09-4604-afba-f057329dc5b1",
   "metadata": {},
   "outputs": [
    {
     "data": {
      "text/plain": [
       "' World'"
      ]
     },
     "execution_count": 35,
     "metadata": {},
     "output_type": "execute_result"
    }
   ],
   "source": [
    "#Q10. Given the string \"Hello, World!\", extract the substring \"World\".\n",
    "\n",
    "s = \"Hello, World!\"\n",
    "s[6:12:1]"
   ]
  },
  {
   "cell_type": "code",
   "execution_count": null,
   "id": "ddb2d156-ad25-40a2-86b9-477fd5851339",
   "metadata": {},
   "outputs": [
    {
     "data": {
      "text/plain": [
       "'World!'"
      ]
     },
     "execution_count": 30,
     "metadata": {},
     "output_type": "execute_result"
    }
   ],
   "source": []
  }
 ],
 "metadata": {
  "kernelspec": {
   "display_name": "Python 3 (ipykernel)",
   "language": "python",
   "name": "python3"
  },
  "language_info": {
   "codemirror_mode": {
    "name": "ipython",
    "version": 3
   },
   "file_extension": ".py",
   "mimetype": "text/x-python",
   "name": "python",
   "nbconvert_exporter": "python",
   "pygments_lexer": "ipython3",
   "version": "3.10.8"
  }
 },
 "nbformat": 4,
 "nbformat_minor": 5
}
